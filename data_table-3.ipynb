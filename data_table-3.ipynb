{
  "metadata": {
    "kernelspec": {
      "name": "python",
      "display_name": "Python (Pyodide)",
      "language": "python"
    },
    "language_info": {
      "codemirror_mode": {
        "name": "python",
        "version": 3
      },
      "file_extension": ".py",
      "mimetype": "text/x-python",
      "name": "python",
      "nbconvert_exporter": "python",
      "pygments_lexer": "ipython3",
      "version": "3.8"
    }
  },
  "nbformat_minor": 4,
  "nbformat": 4,
  "cells": [
    {
      "cell_type": "markdown",
      "source": "# 3 Задание. Практикум по программированию. Барилович Елизавета Игоревна ТРПО24-2\n**Базовая часть:**\nНа базе модулей: csv, pickle и прямой работы с файлами реализовать следующий базовый функционал:\n1.\tфункций *load_table*, *save_table* по загрузке/сохранению табличных данных во внутреннее представление модуля/из внутреннего представления модуля:\n  \n    o\tфайла формата csv (отдельный модуль с load_table, save_table в рамках общего пакета)\n    o\tфайла формата pickle (отдельный модуль с load_table, save_table в рамках общего пакета), модуль использует структуру данных для представления таблицу, удобную автору работы.\n    o\tтекстового файла (только функция save_table сохраняющая в текстовом файле представление таблицы, аналогичное выводу на печать с помощью функции print_table()).\nПримечание: внутреннее представление может базироваться на словаре, где по разным ключам хранятся ключевые «атрибуты» таблицы, а значения таблицы хранятся в виде вложенных списков.\n\n2.\tмодуля с базовыми операциями над таблицами:\no\t*get_rows_by_number* – получение таблицы из одной строки или из строк из интервала по номеру строки. Функция либо копирует исходные данные, либо создает новое представление таблицы, работающее с исходным набором данных (copy_table=False), таким образом изменения, внесенные через это представления будут наблюдаться и в исходной таблице.\n\n\no\t*get_rows_by_index*– получение новой таблицы из одной строки или из строк со значениями в первом столбце, совпадающими с переданными аргументами val1, … , valN. Функция либо копирует исходные данные, либо создает новое представление таблицы, работающее с исходным набором данных (copy_table=False), таким образом изменения, внесенные через это представления будут наблюдаться и в исходной таблице.\n\no\t*get_column_types* – получение словаря вида столбец:тип_значений. Тип значения: int, float, bool, str (по умолчанию для всех столбцов). Параметр by_number определяет вид значения столбец – целочисленный индекс столбца или его строковое представление.\n\no\t*set_column_types* – задание словаря вида столбец:тип_значений. Тип значения: int, float, bool, str (по умолчанию для всех столбцов). Параметр by_number определяет вид значения столбец – целочисленный индекс столбца или его строковое представление.\n\no\t*get_values* – получение списка значений (типизированных согласно типу столбца) таблицы из столбца либо по номеру столбца (целое число, значение по умолчанию 0, либо по имени столбца)\n\no\t*get_value* – аналог get_values(column=0) для представления таблицы с одной строкой, возвращает не список, а одно значение (типизированное согласно типу столбца).\n\no\t*set_values* – задание списка значений values для столбца таблицы (типизированных согласно типу столбца) либо по номеру столбца (целое число, значение по умолчанию 0, либо по имени столбца).\n\no\t*set_value* – аналог set_values(value, column=0) для представления таблицы с одной строкой, устанавливает не список значений, а одно значение (типизированное согласно типу столбца).\n\no\t*print_table* – вывод таблицы на печать.\nДля каждой функции должно быть реализована генерация не менее одного вида исключительных ситуаций.\n\n**Дополнительные задания:**\n\nБаллы - 2\n\n4)\tРеализовать автоматическое определение типа столбцов по хранящимся в таблице значениям. Оформить как отдельную функцию и встроить этот функционал как опцию работы функции load_table. \n\nБаллы - 2\n\n5)\tРеализовать поддержку дополнительного типа значений «дата и время» на основе модуля datetime.\n\n",
      "metadata": {}
    },
    {
      "cell_type": "code",
      "source": "import csv\nimport copy\nimport pickle\nfrom datetime import datetime",
      "metadata": {
        "trusted": true
      },
      "outputs": [],
      "execution_count": 1
    },
    {
      "cell_type": "code",
      "source": "def load_table(fl,autotype = False):\n    \"\"\"\n    Loads a table from a file.\n    This module provides a function to load data from various file formats\n    (pickle, csv, txt) into a dictionary.  It also offers basic\n    automatic type conversion(bool,ty).\n    Loads a table from a file.\n\n    Args:\n        fl: Path to the file.  Supports '.pickle', '.csv', and '.txt' extensions.\n        autotype: Boolean flag. If True, attempts to automatically convert\n            column data types to datetime, boolean, integer, or float. Defaults to False.\n\n    Returns:\n        A dictionary where keys are column headers and values are lists of column data.\n        Returns 'ошибка ввода!' if an error occurs during file processing.\n\n\n    Raises:\n         All exceptions are caught and a generic error message is returned.\n\n    Example Usage:\n        >>> table = load_table('data.csv', autotype=True)\n        >>> print(table)\n        {'column1': [1, 2, 3], 'column2': ['a', 'b', 'c']}\n\n    \"\"\"\n    try:\n        if fl.endswith('.pickle'):\n            with open(fl, 'rb') as file:\n                dic = pickle.load(file)\n        with open(fl) as f:\n            if fl.endswith('.csv'):\n                f_csv = csv.reader(f, delimiter=';')\n                header = next(f_csv)\n                rows = [r for r in f_csv]\n                coll = []\n                for col in range(len(header)):\n                    lst1 = []\n                    for ln in range(len(rows)):\n                        lst1.append(rows[ln][col])\n                    coll.append(lst1)\n                dic = {header[num]: coll[num] for num in range(len(header))}\n            if fl.endswith('.txt'):\n                header = f.readline().rstrip().split(' ')\n                rows = [ft.rstrip().split(' ') for ft in f.readlines()]\n                coll = []\n                for col in range(len(header)):\n                    lst1 = []\n                    for ln in range(len(rows)):\n                        lst1.append(rows[ln][col])\n                    coll.append(lst1)\n                dic = {header[num]: coll[num] for num in range(len(header))}\n            if autotype == True:\n                keyt = list(dic.keys())\n                for ky in keyt:\n                    lst = dic[ky]\n                    try:\n                        for el in range(len(lst)):\n                            str_to_dt = lst[el]\n                            lst[el] = datetime.strptime(str_to_dt, '%d.%m.%Y %H:%M')\n                        dic[ky] = lst\n                    except:\n                        try:\n                            if lst[0] == 'True' or lst[0] == 'False':\n                                dic[ky] = list(map(bool, lst))\n    \n                        except: pass\n                        try:\n                            if str(int(lst[0])) == lst[0]:\n                                lst = list(map(int, lst))\n                                dic[ky] = lst\n                        except: pass\n                        try:\n                            if str(float(lst[0])) == lst[0]:\n                                lst = list(map(float, lst))\n    \n                                dic[ky] = lst\n                        except: pass\n            return dic\n    except: return 'ошибка ввода!'",
      "metadata": {
        "trusted": true
      },
      "outputs": [],
      "execution_count": 2
    },
    {
      "cell_type": "code",
      "source": "def save_table(dic,name,mode = 'csv'):\n    \"\"\"\n    Saves a dictionary to a CSV, pickle, or TXT file.\n    \n    Args:\n        dic: The dictionary to save (dict).  Values must be lists of equal length.\n        name: The base filename (str). The file extension will be added based on the mode.\n        mode: The file format ('csv', 'pickle', or 'txt'). Defaults to 'csv'.\n    \n    Returns:\n        'таблица создана' if the table was saved successfully, or an error\n        message 'ошибка ввода!' if an error occurred.\n    \n    Raises:\n        All exceptions are caught and a generic error message is returned.\n    \n    Example Usage:\n      >>> save_table({'col1': [1, 2, 3], 'col2': [4, 5, 6]}, 'my_data')  # Saves as CSV\n      таблица создана\n    \n    \"\"\"\n    try:\n        if mode == 'csv':\n            key = list(dic.keys())\n            val = list(dic.values())\n            coll = []\n            for col in range(len(key)):\n                lst1 = []\n                for ln in range(len(val)):\n                    lst1.append(val[ln][col])\n                coll.append(lst1)\n            with open(name+'.csv', 'w+', newline='') as f:\n                writer = csv.writer(f, delimiter=\";\")\n                res = []\n                res.append(key)\n                for ln in range(len(key)):\n                    line = []\n                    for cl in range(len(val)):\n                        line.append(str(val[cl][ln]))\n                    res.append(line)\n                writer.writerows(res)\n        if mode == 'pickle':\n            with open(name + '.pickle', 'wb') as file:\n                pickle.dump(dic, file)\n        if mode == 'txt':\n            with open(name+'.txt', 'w+') as file:\n                key = dic.keys()\n                val = list(dic.values())\n                file.write(' '.join([str(x) + ' ' for x in key])+'\\n')\n                for ln in range(len(key)):\n                    line = []\n                    for cl in range(len(val)):\n                        line.append(val[cl][ln])\n                    file.write(''.join([str(x) + ' ' for x in line])+'\\n')\n        return 'таблица создана'\n\n    except:return 'ошибка ввода!'\n",
      "metadata": {
        "trusted": true
      },
      "outputs": [],
      "execution_count": 3
    },
    {
      "cell_type": "code",
      "source": "tab = load_table('table.csv',True)\nprint(tab,'\\n')\nprint(save_table(tab,'output','csv'))\n\nprint('txt')\ntabtxt = load_table('tabletext.txt')\nprint(tabtxt,'\\n')\nprint(save_table(tabtxt,'tabtxtnew','txt'))\n\nprint('pickle')\nwith open('tablepic.pickle', 'wb') as file:\n    pickle.dump(tab, file)\ntabpickle = load_table('tablepic.pickle')\nprint(tabpickle,'\\n')\nprint(save_table(tabpickle,'tabpicklenew','pickle'))",
      "metadata": {
        "trusted": true
      },
      "outputs": [
        {
          "name": "stdout",
          "text": "{'name': ['Yana', 'Maria', 'Maxim', 'Vladimir', 'Peter'], 'surname': ['Dolgih', 'Petrova', 'Ivanov', 'Sidorov', 'Gavrilov'], 'age': [20, 30, 22, 52, 15], 'have_pets': [True, True, True, True, True], 'reg_date': [datetime.datetime(2024, 11, 23, 12, 30), datetime.datetime(2024, 11, 24, 12, 40), datetime.datetime(2024, 11, 25, 12, 32), datetime.datetime(2024, 11, 26, 12, 50), datetime.datetime(2024, 11, 27, 12, 20)]} \n\nтаблица создана\ntxt\n{'Name': ['Yana', 'Maria', 'Maxim', 'Vladimir', 'Alex'], 'surname': ['Dolgih', 'Petrova', 'Ivanov', 'Sidorov', 'Manuylov'], 'age': ['23', '44', '55', '2', '5'], 'have_pets': ['True', 'True', 'True', 'True', 'True']} \n\nтаблица создана\npickle\n{'name': ['Yana', 'Maria', 'Maxim', 'Vladimir', 'Peter'], 'surname': ['Dolgih', 'Petrova', 'Ivanov', 'Sidorov', 'Gavrilov'], 'age': [20, 30, 22, 52, 15], 'have_pets': [True, True, True, True, True], 'reg_date': [datetime.datetime(2024, 11, 23, 12, 30), datetime.datetime(2024, 11, 24, 12, 40), datetime.datetime(2024, 11, 25, 12, 32), datetime.datetime(2024, 11, 26, 12, 50), datetime.datetime(2024, 11, 27, 12, 20)]} \n\nтаблица создана\n",
          "output_type": "stream"
        }
      ],
      "execution_count": 4
    },
    {
      "cell_type": "code",
      "source": "def get_rows_by_number(tab, start=1, stop='none', copy_table=False):\n    \"\"\"\n    Extracts rows from a table (dictionary) based on row numbers.\n    This function extracts a subset of rows from a table represented as a dictionary,\n    where keys are column names and values are lists of column data.\n    \n    Args:\n        tab: The input table (dict). Keys are column names, values are lists of data.\n        start: The starting row number (int, 1-based index). Defaults to 1.\n        stop: The ending row number (int, 1-based index). Defaults to 'none', which means\n              all rows from `start` to the end will be extracted. \n        copy_table: If True, returns a deep copy of the extracted rows as a list of lists;\n                    otherwise, returns the extracted rows as a dictionary with column\n                    names as keys. Defaults to False.\n    \n    \n    Returns:\n        A dictionary where keys are column names from the input\n        table and values are lists containing the extracted rows.\n        Returns an error message 'ошибка ввода!' if any error occurs during processing.\n    \n    \n    Raises:\n        All exceptions are caught and a generic error message is returned.\n    \n    Example Usage:\n      >>> tab = {'A': [1, 2, 3], 'B': [4, 5, 6], 'C': [7, 8, 9]}\n      >>> get_rows_by_number(tab, start=2, stop=3)\n      {'A': [2], 'B': [5], 'C': [8]}\n    \n    \"\"\"\n    try:\n        key=list(tab.keys())\n        if stop == 'none':\n            stop = len(tab.keys()) + 1\n        val = list(tab.values())\n        newtab = []\n        for el in range(start - 1, stop):\n            line = []\n            for i in range(len(tab.keys())):\n                line.append(val[i][el])\n            newtab.append(line)\n        \n        res = []\n        for col in range(len(key)):\n            lst1 = []\n            for ln in range(len(newtab)):\n                lst1.append(newtab[ln][col])\n            res.append(lst1)\n        dic = {key[num]: res[num] for num in range(len(key))}\n        if copy_table == True:\n            return copy.deepcopy(newtab)\n        return dic\n    except:return 'ошибка ввода!'",
      "metadata": {
        "trusted": true
      },
      "outputs": [],
      "execution_count": 5
    },
    {
      "cell_type": "code",
      "source": "print(get_rows_by_number(tab, 1, 3))",
      "metadata": {
        "trusted": true
      },
      "outputs": [
        {
          "name": "stdout",
          "text": "{'name': ['Yana', 'Maria', 'Maxim'], 'surname': ['Dolgih', 'Petrova', 'Ivanov'], 'age': [20, 30, 22], 'have_pets': [True, True, True], 'reg_date': [datetime.datetime(2024, 11, 23, 12, 30), datetime.datetime(2024, 11, 24, 12, 40), datetime.datetime(2024, 11, 25, 12, 32)]}\n",
          "output_type": "stream"
        }
      ],
      "execution_count": 6
    },
    {
      "cell_type": "code",
      "source": "def get_rows_by_index(tab, vals1, copy_table=False):\n    \"\"\"\n    Extracts rows from a table (dictionary) based on row indices.\n    This function extracts specified rows from a table represented as a dictionary, where\n    keys are column names and values are lists of column data.  The row indices are\n    0-based.\n    \n    Args:\n        tab: The input table (dict). Keys are column names; values are lists of data.\n        vals1: A list of row indices (int) to extract (1-based index).\n        copy_table: If True, returns a deep copy of the extracted rows as a list of lists;\n                    otherwise, returns the extracted rows as a dictionary with column\n                    names as keys. Defaults to False.\n    \n    Returns:\n        A dictionary where keys are column names from the input\n        table and values are lists containing the extracted rows.  \n        \n    Raises:\n        All exceptions are caught and a generic error message is returned. \n\n    Example Usage:\n      >>> tab = {'A': [1, 2, 3], 'B': [4, 5, 6], 'C': [7, 8, 9]}\n      >>> get_rows_by_index(tab, [1, 3])\n      {'A': [1, 3], 'B': [4, 6], 'C': [7, 9]}\n\n\n    \"\"\"\n    try:\n        vals = [val-1 for val in vals1]\n        key = list(tab.keys())\n        val = list(tab.values())\n        newtab = []\n        for el in set(vals):\n            line = []\n            for i in range(len(tab.keys())):\n                line.append(val[i][el])\n            newtab.append(line)\n        res = []\n        for col in range(len(key)):\n            lst1 = []\n            for ln in range(len(newtab)):\n                lst1.append(newtab[ln][col])\n            res.append(lst1)\n        dic = {key[num]: res[num] for num in range(len(key))}\n        if copy_table == True:\n            return copy.deepcopy(newtab)\n        return dic\n    except:return 'ошибка ввода!'\n",
      "metadata": {
        "trusted": true
      },
      "outputs": [],
      "execution_count": 7
    },
    {
      "cell_type": "code",
      "source": "print(get_rows_by_index(tab, [2, 5]))",
      "metadata": {
        "trusted": true
      },
      "outputs": [
        {
          "name": "stdout",
          "text": "{'name': ['Maria', 'Peter'], 'surname': ['Petrova', 'Gavrilov'], 'age': [30, 15], 'have_pets': [True, True], 'reg_date': [datetime.datetime(2024, 11, 24, 12, 40), datetime.datetime(2024, 11, 27, 12, 20)]}\n",
          "output_type": "stream"
        }
      ],
      "execution_count": 8
    },
    {
      "cell_type": "code",
      "source": "def set_column_types(tab, typec, by_number = True,col = 0):\n    \"\"\"\n    Sets the data type of a specified column in a table (dictionary).\n    \n    This function modifies a table (represented as a dictionary) by converting the\n    elements of a specified column to a new data type.\n    \n    Args:\n        tab: The input table (dict). Keys are column names, values are lists of data.\n        typec: The target data type (e.g., int, float, str).  A function that converts\n               values to the desired type.  Must be able to handle potential errors\n               during type conversion.\n        by_number: If True, the column is specified by its 1-based index (`col`);\n                   otherwise, it's specified by its name (`col`). Defaults to True.\n        col: The column to modify. If `by_number` is True, this is the 1-based index of\n             the column; otherwise, it's the column name (str).\n    \n    Returns:\n        'тип задан' if the column type was changed, or an error message 'ошибка ввода!'\n        if an error occurred.\n    \n    Raises:\n        All exceptions are caught and a generic error message is returned.\n    \n    Example Usage:\n      >>> tab = {'A': ['1', '2', '3'], 'B': ['4', '5', '6']}\n      >>> set_column_types(tab, int, by_number=True, col=1)\n      тип задан\n \n    \"\"\"\n    try:\n        if by_number:\n            tab[list(tab.keys())[col - 1]] = list(map(typec, tab[list(tab.keys())[col - 1]]))\n        else:\n            tab[col] = list(map(typec, tab[col]))\n        return 'тип задан'\n    except:return 'ошибка ввода!'\n",
      "metadata": {
        "trusted": true
      },
      "outputs": [],
      "execution_count": 9
    },
    {
      "cell_type": "code",
      "source": "\nprint(set_column_types(tab, int, True,3))\nprint(set_column_types(tab, bool, False,'have_pets'))",
      "metadata": {
        "trusted": true
      },
      "outputs": [
        {
          "name": "stdout",
          "text": "тип задан\nтип задан\n",
          "output_type": "stream"
        }
      ],
      "execution_count": 10
    },
    {
      "cell_type": "code",
      "source": "def get_column_types(tab, by_number=True,col=0):\n    \"\"\"\n    Gets the data type of the first element in a specified column.\n    This function retrieves the data type of the first element in a specified column\n    of a table represented as a dictionary.\n    \n    Args:\n        tab: The input table (dict). Keys are column names, values are lists of data.\n        by_number: If True, the column is specified by its 1-based index (`col`);\n                   otherwise, it's specified by its name (`col`). Defaults to True.\n        col: The column to check. If `by_number` is True, this is the 1-based index;\n             otherwise, it's the column name (str).\n    \n    Returns:\n        The data type of the first element in the specified column. Returns an error\n        message 'ошибка ввода!' if an error occurs during processing.\n    \n    Raises:\n        All exceptions are caught and a generic error message is returned.\n\n    Example Usage:\n      >>> tab = {'A': [1, 2, 3], 'B': ['4', '5', '6']}\n      >>> get_column_types(tab, by_number=True, col=1)\n      <class 'int'>\n    \n    \"\"\"\n    try:\n        if by_number:\n            return type(tab[list(tab.keys())[col - 1]][0])\n        else:\n            return type(tab[col][0])\n    except:return 'ошибка ввода!'",
      "metadata": {
        "trusted": true
      },
      "outputs": [],
      "execution_count": 11
    },
    {
      "cell_type": "code",
      "source": "print(get_column_types(tab, True,3))\nprint(get_column_types(tab, False,'have_pets'))\n\nprint(get_column_types(tab,True,1))\nprint(get_column_types(tab,True,3))\nprint(get_column_types(tab,True,4))\nprint(get_column_types(tab,True,5))",
      "metadata": {
        "trusted": true
      },
      "outputs": [
        {
          "name": "stdout",
          "text": "<class 'int'>\n<class 'bool'>\n<class 'str'>\n<class 'int'>\n<class 'bool'>\n<class 'datetime.datetime'>\n",
          "output_type": "stream"
        }
      ],
      "execution_count": 12
    },
    {
      "cell_type": "code",
      "source": "",
      "metadata": {
        "trusted": true
      },
      "outputs": [],
      "execution_count": null
    },
    {
      "cell_type": "code",
      "source": "def get_values(tab,col=0):\n    \"\"\"Retrieves data from a specified column in a table.\n\n    Args:\n        col:  The column identifier.  Can be:\n              - An integer (1-based index):  If provided as an integer, it represents\n                the column index (starting from 1).\n              - A string: If provided as a string, it represents the column name.\n              Defaults to 0 \n\n    Returns:\n        A list containing the values of the specified column.\n        Returns the string 'ошибка ввода!' (input error) if an error occurs.\n\n    Raises:\n        All exceptions are caught and a generic error message is returned.\n\n    Example Usage:\n        >>> tab = {'col1': [1, 2, 3], 'col2': ['a', 'b', 'c']}\n        >>> get_values('col1')\n        [1, 2, 3]\n    \"\"\"\n    try:\n        if isinstance(col, int):\n            if col <= 0:  \n                raise IndexError(\"Неверный индекс\")\n            ans = tab[list(tab.keys())[col - 1]] \n        elif isinstance(col, str):\n            ans = tab[col]\n        else:\n            raise TypeError(\"ошибка: тип аргумента\")\n        return ans\n    except: return 'ошибка ввода!' ",
      "metadata": {
        "trusted": true
      },
      "outputs": [],
      "execution_count": 13
    },
    {
      "cell_type": "code",
      "source": "print(get_values(tab,2))\nprint(get_values(tab,'name'))",
      "metadata": {
        "trusted": true
      },
      "outputs": [
        {
          "name": "stdout",
          "text": "['Dolgih', 'Petrova', 'Ivanov', 'Sidorov', 'Gavrilov']\n['Yana', 'Maria', 'Maxim', 'Vladimir', 'Peter']\n",
          "output_type": "stream"
        }
      ],
      "execution_count": 14
    },
    {
      "cell_type": "code",
      "source": "def get_value(tab,col=0, ln=0):\n    \"\"\"\n    This function accesses a value from a tabular data structure represented as a\n    dictionary, where keys are column identifiers and values are lists\n    representing rows.  It handles both numeric and non-numeric column\n    identifiers.\n    \n    Args:\n    col: The column index or identifier.  If numeric, it represents the\n         1-based index of the column.  Otherwise, it's treated as a direct key\n         into the dictionary. Defaults to 0.\n    ln: The 1-based index of the row. Defaults to 0.\n    \n    Returns:\n    The value at the specified column and row.  Returns \"ошибка ввода!\" (error\n    input) if an error occurs during access (e.g., invalid column or row index,\n    missing key).\n    \n    Raises:\n    All exceptions are caught and a generic error message is returned.\n    \n    Example Usage:\n    >>>tab = {'A': [1, 2, 3], 'B': [4, 5, 6]}\n    >>>print(get_value(col='A', ln=2))  \n    Output: 2\n\n  \"\"\"\n    try:\n        if str(col).isnumeric():\n            ans = tab[list(tab.keys())[col - 1]][ln - 1]\n        else:\n            ans = tab[col][ln-1]\n        return ans\n    except:return 'ошибка ввода!'\n",
      "metadata": {
        "trusted": true
      },
      "outputs": [],
      "execution_count": 15
    },
    {
      "cell_type": "code",
      "source": "print(get_value(tab,2, 3))\nprint(get_value(tab,'name', 3))",
      "metadata": {
        "trusted": true
      },
      "outputs": [
        {
          "name": "stdout",
          "text": "Ivanov\nMaxim\n",
          "output_type": "stream"
        }
      ],
      "execution_count": 16
    },
    {
      "cell_type": "code",
      "source": "def set_values(tab,val, col=0):\n    \"\"\"\n    Sets column values in a tabular dictionary.\n    \n    Args:\n    tab: The input dictionary representing the tabular data.  Keys are column\n         identifiers, and values are lists representing rows. This dictionary is\n         modified in place.\n    val: The new value to set for all rows in the specified column.\n    col: The column identifier. If an integer, it's treated as a 1-based index;\n         otherwise, it's treated as a dictionary key. Defaults to 0.\n    \n    Returns:\n    \"замена прошла\" (replacement complete) if successful, \"ошибка ввода!\" (error\n    input) otherwise.\n    \n    Raises:\n    All exceptions are caught and a generic error message is returned.\n    \n    Examples:\n    >>> tab = {'A': [1, 2, 3], 'B': [4, 5, 6]}\n    >>> set_values(tab, 0, col='A')\n    'замена прошла'\n    \"\"\"\n    try:\n        if str(col).isnumeric():\n            tab[list(tab.keys())[col - 1]] = val\n        else:\n            tab[col] = val\n        return 'замена прошла'\n    except:return 'ошибка ввода!'",
      "metadata": {
        "trusted": true
      },
      "outputs": [],
      "execution_count": 17
    },
    {
      "cell_type": "code",
      "source": "print(set_values(tab,[23, 44, 55, 2, 5], 3))\nprint(get_values(tab,3))\nprint(set_values(tab,[True, True, True, True, True], 'have_pets'))\nprint(get_values(tab,'have_pets'))",
      "metadata": {
        "trusted": true
      },
      "outputs": [
        {
          "name": "stdout",
          "text": "замена прошла\n[23, 44, 55, 2, 5]\nзамена прошла\n[True, True, True, True, True]\n",
          "output_type": "stream"
        }
      ],
      "execution_count": 18
    },
    {
      "cell_type": "code",
      "source": "def set_value(tab,val=0, col=0, ln=0):\n    \"\"\"\n    Sets a single value in a dictionary.\n\n    Args:\n    tab: The input dictionary representing the tabular data. Keys are column\n     identifiers, and values are lists representing rows. This dictionary is\n     modified in place.\n    val: The value to set in the specified cell. Defaults to 0.\n    col: The column identifier. If an integer, it's treated as a 1-based index;\n     otherwise, it's treated as a dictionary key. Defaults to 0.\n    ln: The 1-based row index. Defaults to 0.\n    \n    Returns:\n    \"замена прошла\" (replacement complete) if successful, \"ошибка ввода!\" (error\n    input) otherwise.\n    \n    Raises:\n    All exceptions are caught and a generic error message is returned.\n    \n    Examples:\n    >>> tab = {'A': [1, 2, 3], 'B': [4, 5, 6]}\n    >>> set_value(tab, 10, col='A', ln=1)\n    'замена прошла'\n\n    \"\"\"\n    try:\n        if str(col).isnumeric():\n            tab[list(tab.keys())[col - 1]][ln - 1] = val\n        else:\n            tab[col][ln - 1] = val\n        return 'замена прошла'\n    except:return 'ошибка ввода!'\n",
      "metadata": {
        "trusted": true
      },
      "outputs": [],
      "execution_count": 19
    },
    {
      "cell_type": "code",
      "source": "print(set_value(tab,'Manuylov', 2, 5))\nprint(get_values(tab,2))\nprint(set_value(tab,'Alex', 'name', 5))\nprint(get_values(tab,'name'))",
      "metadata": {
        "trusted": true
      },
      "outputs": [
        {
          "name": "stdout",
          "text": "замена прошла\n['Dolgih', 'Petrova', 'Ivanov', 'Sidorov', 'Manuylov']\nзамена прошла\n['Yana', 'Maria', 'Maxim', 'Vladimir', 'Alex']\n",
          "output_type": "stream"
        }
      ],
      "execution_count": 20
    },
    {
      "cell_type": "code",
      "source": "def print_table(tab):\n    \"\"\"\n    Prints a dictionary to the console.\n\n    Args:\n    tab: A dictionary where keys represent column headers and values are lists\n     representing rows of data.  All inner lists (rows) must have the same\n     length.\n    \n    Returns:\n    An empty string if the table is printed successfully, \"ошибка ввода!\" (error\n    input) otherwise.\n    \n    Raises:\n    All exceptions are caught and a generic error message is returned.\n    \n    Examples:\n    >>> tab = {'A': [1, 2, 3], 'B': [4, 5, 6], 'C': [7, 8, 9]}\n    >>> print_table(tab)\n    A B C\n    1 4 7\n    2 5 8\n    3 6 9\n    \"\"\"\n    try:\n        key = tab.keys()\n        val = list(tab.values())\n        print(*key)\n        for ln in range(len(key)):\n            line = []\n            for cl in range(len(val)):\n                line.append(str(val[cl][ln]))\n            print(*line)\n        return ''\n    except:return 'ошибка ввода!'",
      "metadata": {
        "trusted": true
      },
      "outputs": [],
      "execution_count": 21
    },
    {
      "cell_type": "code",
      "source": "print(print_table(tab))",
      "metadata": {
        "trusted": true
      },
      "outputs": [
        {
          "name": "stdout",
          "text": "name surname age have_pets reg_date\nYana Dolgih 23 True 2024-11-23 12:30:00\nMaria Petrova 44 True 2024-11-24 12:40:00\nMaxim Ivanov 55 True 2024-11-25 12:32:00\nVladimir Sidorov 2 True 2024-11-26 12:50:00\nAlex Manuylov 5 True 2024-11-27 12:20:00\n\n",
          "output_type": "stream"
        }
      ],
      "execution_count": 22
    },
    {
      "cell_type": "code",
      "source": "",
      "metadata": {
        "trusted": true
      },
      "outputs": [],
      "execution_count": null
    },
    {
      "cell_type": "code",
      "source": "",
      "metadata": {
        "trusted": true
      },
      "outputs": [],
      "execution_count": null
    },
    {
      "cell_type": "code",
      "source": "",
      "metadata": {
        "trusted": true
      },
      "outputs": [],
      "execution_count": null
    },
    {
      "cell_type": "code",
      "source": "",
      "metadata": {
        "trusted": true
      },
      "outputs": [],
      "execution_count": null
    },
    {
      "cell_type": "code",
      "source": "",
      "metadata": {
        "trusted": true
      },
      "outputs": [],
      "execution_count": null
    }
  ]
}